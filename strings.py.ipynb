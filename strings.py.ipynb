{
 "cells": [
  {
   "cell_type": "code",
   "execution_count": 73,
   "metadata": {},
   "outputs": [
    {
     "name": "stdout",
     "output_type": "stream",
     "text": [
      "Ramyashree Manchenahalli Rajgopal\n",
      "myashree M\n",
      "SUCCSESS\n",
      "shree Manchenahalli Rajgopal\n",
      "Ramyashree Manchenahalli RajgopalRamya\n",
      "Ramya\n",
      "change in concept\n",
      "Ramy\n",
      "R\n",
      "2\n",
      "0\n",
      "False\n",
      "False\n",
      "True\n",
      "['Ramyashr', '', ' Manch', 'nahalli Rajgopal']\n"
     ]
    }
   ],
   "source": [
    "#!/usr/bin/python3\n",
    "\n",
    "str = \"Ramyashree Manchenahalli Rajgopal\"\n",
    "str1 = \"Ramya\"\n",
    "\n",
    "print (str)\n",
    "print (str[2:12])\n",
    "if str != str1:\n",
    "    print (\"SUCCESS\") #String compare\n",
    "print (str[5:])   \n",
    "print (str + str1) #String  concatination \n",
    "concat = str + str1\n",
    "print (str1)\n",
    "print (\"change in concept\")\n",
    "print (str1[:-1]) #String  slicing #last disgit\n",
    "print (str1[:1]) #string starts from 0...n and -1..\n",
    "str[::1]   #String skipping # stepping\n",
    "str[::2]     #Skip by 2\n",
    "concat[::-1]      #String reverse\n",
    "str.upper()\n",
    "str.lower()\n",
    "str.split()\n",
    "str.split( 'R' )\n",
    "str.format('The inserted string')\n",
    "\n",
    "print (str.count('R'))   #Location and Counting\n",
    "print (str.find( 'R' ))\n",
    "str1.isalnum()\n",
    "print (str.isalnum()  )  #is check methods\n",
    "print(str.isalpha())\n",
    "print(str1.isalpha())\n",
    "\n",
    "str.islower()\n",
    "str.isupper()\n",
    "str.isspace()\n",
    "print(str.split( 'e' ))\n",
    "\n"
   ]
  },
  {
   "cell_type": "code",
   "execution_count": null,
   "metadata": {},
   "outputs": [],
   "source": []
  }
 ],
 "metadata": {
  "kernelspec": {
   "display_name": "Python 3",
   "language": "python",
   "name": "python3"
  },
  "language_info": {
   "codemirror_mode": {
    "name": "ipython",
    "version": 3
   },
   "file_extension": ".py",
   "mimetype": "text/x-python",
   "name": "python",
   "nbconvert_exporter": "python",
   "pygments_lexer": "ipython3",
   "version": "3.6.2"
  }
 },
 "nbformat": 4,
 "nbformat_minor": 2
}
