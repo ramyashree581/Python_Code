{
 "cells": [
  {
   "cell_type": "code",
   "execution_count": 27,
   "metadata": {},
   "outputs": [
    {
     "name": "stdout",
     "output_type": "stream",
     "text": [
      "[1, 2, 3, 4, 5, 6, 7, 8, 9, 9, 10]\n",
      "1\n",
      "[1, 2, 3, 4, 5, 6, 7, 8, 9, 9, 10, 12, [1, 1, 2], 1, 1, 2]\n",
      "4\n",
      "[1, 2, 3, 5, 6, 7, 8, 9, 9, 10, 12, [1, 1, 2], 1, 1, 2]\n",
      "[2, 1, 1, [1, 1, 2], 12, 10, 9, 9, 8, 7, 6, 5, 3, 2, 1]\n"
     ]
    },
    {
     "ename": "TypeError",
     "evalue": "'<' not supported between instances of 'list' and 'int'",
     "output_type": "error",
     "traceback": [
      "\u001b[0;31m---------------------------------------------------------------------------\u001b[0m",
      "\u001b[0;31mTypeError\u001b[0m                                 Traceback (most recent call last)",
      "\u001b[0;32m<ipython-input-27-d9377fffdecc>\u001b[0m in \u001b[0;36m<module>\u001b[0;34m()\u001b[0m\n\u001b[1;32m     28\u001b[0m \u001b[0mli\u001b[0m\u001b[0;34m.\u001b[0m\u001b[0mreverse\u001b[0m\u001b[0;34m(\u001b[0m\u001b[0;34m)\u001b[0m\u001b[0;34m\u001b[0m\u001b[0m\n\u001b[1;32m     29\u001b[0m \u001b[0mprint\u001b[0m \u001b[0;34m(\u001b[0m\u001b[0mli\u001b[0m\u001b[0;34m)\u001b[0m\u001b[0;34m\u001b[0m\u001b[0m\n\u001b[0;32m---> 30\u001b[0;31m \u001b[0mli\u001b[0m\u001b[0;34m.\u001b[0m\u001b[0msort\u001b[0m\u001b[0;34m(\u001b[0m\u001b[0;34m)\u001b[0m\u001b[0;34m\u001b[0m\u001b[0m\n\u001b[0m\u001b[1;32m     31\u001b[0m \u001b[0mprint\u001b[0m \u001b[0;34m(\u001b[0m\u001b[0mli\u001b[0m\u001b[0;34m)\u001b[0m\u001b[0;34m\u001b[0m\u001b[0m\n\u001b[1;32m     32\u001b[0m \u001b[0ml\u001b[0m\u001b[0;34m.\u001b[0m\u001b[0mremove\u001b[0m\u001b[0;34m(\u001b[0m\u001b[0;36m4\u001b[0m\u001b[0;34m)\u001b[0m\u001b[0;34m\u001b[0m\u001b[0m\n",
      "\u001b[0;31mTypeError\u001b[0m: '<' not supported between instances of 'list' and 'int'"
     ]
    }
   ],
   "source": [
    "li = [1,2,3,4,5,6,7,8,9,9]\n",
    "li.append(10)\n",
    "print (li)\n",
    "\n",
    "# Append, count, extend, index, insert wrt index\n",
    "\n",
    "li.append(12)\n",
    "li.count(9)\n",
    "li.append([1,1,2])\n",
    "li\n",
    "li.extend([1,1,2])\n",
    "li\n",
    "print (li.index(2))\n",
    "\n",
    "li.insert(2,'inserted')\n",
    "li\n",
    "\n",
    "li.remove('inserted')\n",
    "print (li)\n",
    "\n",
    "# push, pop, reomove, sort\n",
    "\n",
    "ramya = li.pop(3)\n",
    "print (ramya)\n",
    "print (li)\n",
    "\n",
    "\n",
    "li.reverse()\n",
    "print (li)\n",
    "li.sort()\n",
    "print (li)\n",
    "l.remove(4)\n",
    "print (li)"
   ]
  },
  {
   "cell_type": "code",
   "execution_count": null,
   "metadata": {},
   "outputs": [],
   "source": []
  },
  {
   "cell_type": "code",
   "execution_count": null,
   "metadata": {},
   "outputs": [],
   "source": []
  }
 ],
 "metadata": {
  "kernelspec": {
   "display_name": "Python 3",
   "language": "python",
   "name": "python3"
  },
  "language_info": {
   "codemirror_mode": {
    "name": "ipython",
    "version": 3
   },
   "file_extension": ".py",
   "mimetype": "text/x-python",
   "name": "python",
   "nbconvert_exporter": "python",
   "pygments_lexer": "ipython3",
   "version": "3.6.2"
  }
 },
 "nbformat": 4,
 "nbformat_minor": 2
}
